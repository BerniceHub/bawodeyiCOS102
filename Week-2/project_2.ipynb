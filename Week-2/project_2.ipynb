{
 "cells": [
  {
   "cell_type": "code",
   "execution_count": null,
   "id": "6002bb05",
   "metadata": {},
   "outputs": [
    {
     "name": "stdout",
     "output_type": "stream",
     "text": [
      "Welcome! Choose the operation you want to perform:\n",
      "1: Find roots of a cubic equation (Ax^3 + Bx^2 + Cx + D = 0)\n",
      "2: Find roots of a quartic equation (Ax^4 + Bx^3 + Cx^2 + Dx + E = 0)\n",
      "3: Find roots of a quadratic equation (Ax^2 + Bx + C = 0)\n",
      "Enter coefficients for Ax^4 + Bx^3 + Cx^2 + Dx + E = 0:\n",
      "Roots of the quartic equation are: [ 0.39254457+1.07921083j  0.39254457-1.07921083j -1.3922256 +0.j\n",
      " -0.72619688+0.j        ]\n"
     ]
    }
   ],
   "source": [
    "import numpy as np\n",
    "\n",
    "def cubic_roots(a, b, c, d):\n",
    "    coefficients = [a, b, c, d]\n",
    "    roots = np.roots(coefficients)\n",
    "    return roots\n",
    "\n",
    "def quartic_roots(a, b, c, d, e):\n",
    "    coefficients = [a, b, c, d, e]\n",
    "    roots = np.roots(coefficients)\n",
    "    return roots\n",
    "\n",
    "def quadratic_roots(a, b, c):\n",
    "    coefficients = [a, b, c]\n",
    "    roots = np.roots(coefficients)\n",
    "    return roots\n",
    "\n",
    "def main():\n",
    "    print(\"Welcome! Choose the operation you want to perform:\")\n",
    "    print(\"1: Find roots of a cubic equation (Ax^3 + Bx^2 + Cx + D = 0)\")\n",
    "    print(\"2: Find roots of a quartic equation (Ax^4 + Bx^3 + Cx^2 + Dx + E = 0)\")\n",
    "    print(\"3: Find roots of a quadratic equation (Ax^2 + Bx + C = 0)\")\n",
    "    choice = int(input(\"Enter your choice (1, 2, or 3): \"))\n",
    "\n",
    "    if choice == 1:\n",
    "        print(\"Enter coefficients for Ax^3 + Bx^2 + Cx + D = 0:\")\n",
    "        a = float(input(\"Enter A: \"))\n",
    "        b = float(input(\"Enter B: \"))\n",
    "        c = float(input(\"Enter C: \"))\n",
    "        d = float(input(\"Enter D: \"))\n",
    "        roots = cubic_roots(a, b, c, d)\n",
    "        print(\"Roots of the cubic equation are:\", roots)\n",
    "\n",
    "    elif choice == 2:\n",
    "        print(\"Enter coefficients for Ax^4 + Bx^3 + Cx^2 + Dx + E = 0:\")\n",
    "        a = float(input(\"Enter A: \"))\n",
    "        b = float(input(\"Enter B: \"))\n",
    "        c = float(input(\"Enter C: \"))\n",
    "        d = float(input(\"Enter D: \"))\n",
    "        e = float(input(\"Enter E: \"))\n",
    "        roots = quartic_roots(a, b, c, d, e)\n",
    "        print(\"Roots of the quartic equation are:\", roots)\n",
    "\n",
    "    elif choice == 3:\n",
    "        print(\"Enter coefficients for Ax^2 + Bx + C = 0:\")\n",
    "        a = float(input(\"Enter A: \"))\n",
    "        b = float(input(\"Enter B: \"))\n",
    "        c = float(input(\"Enter C: \"))\n",
    "        roots = quadratic_roots(a, b, c)\n",
    "        print(\"Roots of the quadratic equation are:\", roots)\n",
    "\n",
    "    else:\n",
    "        print(\"Invalid choice! Please choose 1, 2, or 3.\")\n",
    "\n",
    "main()\n",
    "\n"
   ]
  },
  {
   "cell_type": "code",
   "execution_count": null,
   "id": "fef38fce",
   "metadata": {},
   "outputs": [],
   "source": []
  }
 ],
 "metadata": {
  "kernelspec": {
   "display_name": "Python 3",
   "language": "python",
   "name": "python3"
  },
  "language_info": {
   "codemirror_mode": {
    "name": "ipython",
    "version": 3
   },
   "file_extension": ".py",
   "mimetype": "text/x-python",
   "name": "python",
   "nbconvert_exporter": "python",
   "pygments_lexer": "ipython3",
   "version": "3.13.3"
  }
 },
 "nbformat": 4,
 "nbformat_minor": 5
}
