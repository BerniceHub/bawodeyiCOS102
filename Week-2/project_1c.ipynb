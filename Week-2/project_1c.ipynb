{
 "cells": [
  {
   "cell_type": "code",
   "execution_count": 5,
   "id": "5d0cbc3f",
   "metadata": {},
   "outputs": [
    {
     "name": "stdout",
     "output_type": "stream",
     "text": [
      "Bernice 20\n",
      "Fiona 16\n"
     ]
    }
   ],
   "source": [
    "name1 = input(\"Enter the first name: \")\n",
    "age1 = int(input(f\"Enter {name1}'s age: \"))\n",
    "\n",
    "name2 = input(\"Enter the second name: \")\n",
    "age2 = int(input(f\"Enter {name2}'s age: \"))\n",
    "\n",
    "age1, age2 = age2, age1\n",
    "\n",
    "print(name1, age1)\n",
    "print(name2, age2)"
   ]
  },
  {
   "cell_type": "code",
   "execution_count": null,
   "id": "cf589376",
   "metadata": {},
   "outputs": [],
   "source": []
  }
 ],
 "metadata": {
  "kernelspec": {
   "display_name": "Python 3",
   "language": "python",
   "name": "python3"
  },
  "language_info": {
   "codemirror_mode": {
    "name": "ipython",
    "version": 3
   },
   "file_extension": ".py",
   "mimetype": "text/x-python",
   "name": "python",
   "nbconvert_exporter": "python",
   "pygments_lexer": "ipython3",
   "version": "3.13.3"
  }
 },
 "nbformat": 4,
 "nbformat_minor": 5
}
