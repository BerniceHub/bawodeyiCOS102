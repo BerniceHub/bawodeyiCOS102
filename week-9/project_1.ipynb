{
 "cells": [
  {
   "cell_type": "code",
   "execution_count": 2,
   "id": "a59250fe",
   "metadata": {},
   "outputs": [
    {
     "name": "stdout",
     "output_type": "stream",
     "text": [
      "Abraham Jones is present today.\n",
      "Abraham Jones, your task for today is Transporting\n"
     ]
    }
   ],
   "source": [
    "import random\n",
    "class Employee():\n",
    "\n",
    "    def __init__ (self, name):\n",
    "        self.name = name\n",
    "        self.employees = [\"Mary Evans\", \"Eyo Ishan\", \"Durojaiye Dare\",\n",
    "        \"Adams Ali\", \"Andrew Ugwu\", \"Stella Mankinde\", \"Jane Akibo\",\n",
    "        \"Ago James\", \"Michell Taiwo\", \"Abraham Jones\" , \n",
    "        \"Nicole Anide\", \"Kosi Korso\", \"Adele Martins\",\n",
    "        \"Emmanuel Ojo\", \"Ajayi Fatima\"]\n",
    "        self.tasks = [\"Loading\", \"Transporting\", \"Reviewing Orders\",\n",
    "                      \"Customer Service\", \"Delivering Items\"]\n",
    "\n",
    "    def check_employee(self):\n",
    "        return self.name in self.employees\n",
    "\n",
    "    def take_attendance(self):\n",
    "        print(f\"{self.name} is present today.\")\n",
    "\n",
    "    def assign_task(self):\n",
    "        index = random.randint(0, len(self.tasks)-1)\n",
    "        task = self.tasks[index]\n",
    "        print(f\"{self.name}, your task for today is {task}\")      \n",
    "\n",
    "    def refuse_access(self):\n",
    "        print(f\"{self.name}, you are not authorized to access this system.\")\n",
    "\n",
    "\n",
    "user_input = input(\"Enter your full name: \")\n",
    "employee = Employee(user_input)\n",
    "\n",
    "if employee.check_employee():\n",
    "    employee.take_attendance()\n",
    "    employee.assign_task()\n",
    "else:\n",
    "    employee.refuse_access()\n",
    "    "
   ]
  }
 ],
 "metadata": {
  "kernelspec": {
   "display_name": "Python 3",
   "language": "python",
   "name": "python3"
  },
  "language_info": {
   "codemirror_mode": {
    "name": "ipython",
    "version": 3
   },
   "file_extension": ".py",
   "mimetype": "text/x-python",
   "name": "python",
   "nbconvert_exporter": "python",
   "pygments_lexer": "ipython3",
   "version": "3.13.3"
  }
 },
 "nbformat": 4,
 "nbformat_minor": 5
}
