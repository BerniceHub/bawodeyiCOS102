{
 "cells": [
  {
   "cell_type": "code",
   "execution_count": null,
   "id": "a59250fe",
   "metadata": {},
   "outputs": [],
   "source": [
    "import random\n",
    "class Employee():\n",
    "\n",
    "    def __init__ (self, input_name):\n",
    "        self.input = input_name\n",
    "        self.names = [\"Mary Evans\", \"Eyo Ishan\", \"Durojaiye Dare\",\n",
    "        \"Adams Ali\", \"Andrew Ugwu\", \"Stella Mankinde\", \"Jane Akibo\",\n",
    "        \"Ago James\", \"Michell Taiwo\", \"Abraham Jones\" , \n",
    "        \"Nicole Anide\", \"Kosi Korso\", \"Adele Martins\",\n",
    "        \"Emmanuel Ojo\", \"Ajayi Fatima\"]\n",
    "        self.tasks = \n",
    "        self.attendance = []\n",
    "\n",
    "    def check_employee(self):\n",
    "        if self.input in self.names: \n",
    "            return True\n",
    "        else:\n",
    "            return False \n",
    "            \n",
    "\n",
    "    def take_attendance(self):\n",
    "        if self.check_employee(): \n",
    "                self.attendance.append(input_name)\n",
    "                print(f\"{} is present\", self.input)\n",
    "        else:\n",
    "            print(f\"{} is already marked present\", self.input)\n",
    "\n",
    "\n",
    "    def assign_task():\n",
    "         \n",
    "\n",
    "    def refuse_access():\n",
    "\n",
    "\n",
    "\n",
    "employee = Employee(input(\"Enter your name: \").strip())"
   ]
  }
 ],
 "metadata": {
  "language_info": {
   "name": "python"
  }
 },
 "nbformat": 4,
 "nbformat_minor": 5
}
